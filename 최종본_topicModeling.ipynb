{
  "nbformat": 4,
  "nbformat_minor": 0,
  "metadata": {
    "colab": {
      "provenance": [],
      "mount_file_id": "1OMkGHFjjzwiYoZgSpZ3LSbyzD98OaxDQ",
      "authorship_tag": "ABX9TyON6AXo+Ods9ViyY9FTXzEO",
      "include_colab_link": true
    },
    "kernelspec": {
      "name": "python3",
      "display_name": "Python 3"
    },
    "language_info": {
      "name": "python"
    },
    "accelerator": "GPU",
    "gpuClass": "standard"
  },
  "cells": [
    {
      "cell_type": "markdown",
      "metadata": {
        "id": "view-in-github",
        "colab_type": "text"
      },
      "source": [
        "<a href=\"https://colab.research.google.com/github/Daniel-923/Kor-Eng-Dictionary/blob/main/%EC%B5%9C%EC%A2%85%EB%B3%B8_topicModeling.ipynb\" target=\"_parent\"><img src=\"https://colab.research.google.com/assets/colab-badge.svg\" alt=\"Open In Colab\"/></a>"
      ]
    },
    {
      "cell_type": "code",
      "execution_count": null,
      "metadata": {
        "id": "r5szPVGzAw2J"
      },
      "outputs": [],
      "source": [
        "import pandas as pd"
      ]
    },
    {
      "cell_type": "code",
      "source": [
        "import io\n",
        "df = pd.read_csv('csvname_2.csv', encoding = 'cp949')"
      ],
      "metadata": {
        "id": "rJf11v4XgsoY"
      },
      "execution_count": null,
      "outputs": []
    },
    {
      "cell_type": "code",
      "source": [
        "df.head()"
      ],
      "metadata": {
        "colab": {
          "base_uri": "https://localhost:8080/",
          "height": 206
        },
        "id": "AtRXruqFBEOp",
        "outputId": "8a556227-1041-4a98-8d67-c1f257a5060d"
      },
      "execution_count": null,
      "outputs": [
        {
          "output_type": "execute_result",
          "data": {
            "text/plain": [
              "            title                                            summary\n",
              "0  천마! 환생부터 만렙까지   가장 신뢰하던 친우의 배신으로 죽음에 이르게 된 천마 단신우.그는 믿을 수 없게도 ...\n",
              "1    천마! 이계를 부수다   \"왜, 왜 죽였습니까?\"\"짜증이 나니까.\"\"겨우 그런 이유로 일국의 왕을 죽인단 말...\n",
              "2      천마님 안마하신다                                     현대로 돌아온 천마가 안마함\n",
              "3      우주천마 3077   [제6회 대한민국 웹소설 공모대전 수상작]오랜 세월이 흘러 태산에 봉인된 천마가 눈...\n",
              "4    진품명품 천마감정사!     [해당 유물은 '진품'입니다.]유물, 화석, 디자인.내 눈에는 그 가치가 다 보인다."
            ],
            "text/html": [
              "\n",
              "  <div id=\"df-d37a9ec3-b65f-40a2-8abb-84fb379fab37\" class=\"colab-df-container\">\n",
              "    <div>\n",
              "<style scoped>\n",
              "    .dataframe tbody tr th:only-of-type {\n",
              "        vertical-align: middle;\n",
              "    }\n",
              "\n",
              "    .dataframe tbody tr th {\n",
              "        vertical-align: top;\n",
              "    }\n",
              "\n",
              "    .dataframe thead th {\n",
              "        text-align: right;\n",
              "    }\n",
              "</style>\n",
              "<table border=\"1\" class=\"dataframe\">\n",
              "  <thead>\n",
              "    <tr style=\"text-align: right;\">\n",
              "      <th></th>\n",
              "      <th>title</th>\n",
              "      <th>summary</th>\n",
              "    </tr>\n",
              "  </thead>\n",
              "  <tbody>\n",
              "    <tr>\n",
              "      <th>0</th>\n",
              "      <td>천마! 환생부터 만렙까지</td>\n",
              "      <td>가장 신뢰하던 친우의 배신으로 죽음에 이르게 된 천마 단신우.그는 믿을 수 없게도 ...</td>\n",
              "    </tr>\n",
              "    <tr>\n",
              "      <th>1</th>\n",
              "      <td>천마! 이계를 부수다</td>\n",
              "      <td>\"왜, 왜 죽였습니까?\"\"짜증이 나니까.\"\"겨우 그런 이유로 일국의 왕을 죽인단 말...</td>\n",
              "    </tr>\n",
              "    <tr>\n",
              "      <th>2</th>\n",
              "      <td>천마님 안마하신다</td>\n",
              "      <td>현대로 돌아온 천마가 안마함</td>\n",
              "    </tr>\n",
              "    <tr>\n",
              "      <th>3</th>\n",
              "      <td>우주천마 3077</td>\n",
              "      <td>[제6회 대한민국 웹소설 공모대전 수상작]오랜 세월이 흘러 태산에 봉인된 천마가 눈...</td>\n",
              "    </tr>\n",
              "    <tr>\n",
              "      <th>4</th>\n",
              "      <td>진품명품 천마감정사!</td>\n",
              "      <td>[해당 유물은 '진품'입니다.]유물, 화석, 디자인.내 눈에는 그 가치가 다 보인다.</td>\n",
              "    </tr>\n",
              "  </tbody>\n",
              "</table>\n",
              "</div>\n",
              "    <div class=\"colab-df-buttons\">\n",
              "\n",
              "  <div class=\"colab-df-container\">\n",
              "    <button class=\"colab-df-convert\" onclick=\"convertToInteractive('df-d37a9ec3-b65f-40a2-8abb-84fb379fab37')\"\n",
              "            title=\"Convert this dataframe to an interactive table.\"\n",
              "            style=\"display:none;\">\n",
              "\n",
              "  <svg xmlns=\"http://www.w3.org/2000/svg\" height=\"24px\" viewBox=\"0 -960 960 960\">\n",
              "    <path d=\"M120-120v-720h720v720H120Zm60-500h600v-160H180v160Zm220 220h160v-160H400v160Zm0 220h160v-160H400v160ZM180-400h160v-160H180v160Zm440 0h160v-160H620v160ZM180-180h160v-160H180v160Zm440 0h160v-160H620v160Z\"/>\n",
              "  </svg>\n",
              "    </button>\n",
              "\n",
              "  <style>\n",
              "    .colab-df-container {\n",
              "      display:flex;\n",
              "      gap: 12px;\n",
              "    }\n",
              "\n",
              "    .colab-df-convert {\n",
              "      background-color: #E8F0FE;\n",
              "      border: none;\n",
              "      border-radius: 50%;\n",
              "      cursor: pointer;\n",
              "      display: none;\n",
              "      fill: #1967D2;\n",
              "      height: 32px;\n",
              "      padding: 0 0 0 0;\n",
              "      width: 32px;\n",
              "    }\n",
              "\n",
              "    .colab-df-convert:hover {\n",
              "      background-color: #E2EBFA;\n",
              "      box-shadow: 0px 1px 2px rgba(60, 64, 67, 0.3), 0px 1px 3px 1px rgba(60, 64, 67, 0.15);\n",
              "      fill: #174EA6;\n",
              "    }\n",
              "\n",
              "    .colab-df-buttons div {\n",
              "      margin-bottom: 4px;\n",
              "    }\n",
              "\n",
              "    [theme=dark] .colab-df-convert {\n",
              "      background-color: #3B4455;\n",
              "      fill: #D2E3FC;\n",
              "    }\n",
              "\n",
              "    [theme=dark] .colab-df-convert:hover {\n",
              "      background-color: #434B5C;\n",
              "      box-shadow: 0px 1px 3px 1px rgba(0, 0, 0, 0.15);\n",
              "      filter: drop-shadow(0px 1px 2px rgba(0, 0, 0, 0.3));\n",
              "      fill: #FFFFFF;\n",
              "    }\n",
              "  </style>\n",
              "\n",
              "    <script>\n",
              "      const buttonEl =\n",
              "        document.querySelector('#df-d37a9ec3-b65f-40a2-8abb-84fb379fab37 button.colab-df-convert');\n",
              "      buttonEl.style.display =\n",
              "        google.colab.kernel.accessAllowed ? 'block' : 'none';\n",
              "\n",
              "      async function convertToInteractive(key) {\n",
              "        const element = document.querySelector('#df-d37a9ec3-b65f-40a2-8abb-84fb379fab37');\n",
              "        const dataTable =\n",
              "          await google.colab.kernel.invokeFunction('convertToInteractive',\n",
              "                                                    [key], {});\n",
              "        if (!dataTable) return;\n",
              "\n",
              "        const docLinkHtml = 'Like what you see? Visit the ' +\n",
              "          '<a target=\"_blank\" href=https://colab.research.google.com/notebooks/data_table.ipynb>data table notebook</a>'\n",
              "          + ' to learn more about interactive tables.';\n",
              "        element.innerHTML = '';\n",
              "        dataTable['output_type'] = 'display_data';\n",
              "        await google.colab.output.renderOutput(dataTable, element);\n",
              "        const docLink = document.createElement('div');\n",
              "        docLink.innerHTML = docLinkHtml;\n",
              "        element.appendChild(docLink);\n",
              "      }\n",
              "    </script>\n",
              "  </div>\n",
              "\n",
              "\n",
              "<div id=\"df-01ac653a-60f9-4029-9750-0c9374efae0c\">\n",
              "  <button class=\"colab-df-quickchart\" onclick=\"quickchart('df-01ac653a-60f9-4029-9750-0c9374efae0c')\"\n",
              "            title=\"Suggest charts\"\n",
              "            style=\"display:none;\">\n",
              "\n",
              "<svg xmlns=\"http://www.w3.org/2000/svg\" height=\"24px\"viewBox=\"0 0 24 24\"\n",
              "     width=\"24px\">\n",
              "    <g>\n",
              "        <path d=\"M19 3H5c-1.1 0-2 .9-2 2v14c0 1.1.9 2 2 2h14c1.1 0 2-.9 2-2V5c0-1.1-.9-2-2-2zM9 17H7v-7h2v7zm4 0h-2V7h2v10zm4 0h-2v-4h2v4z\"/>\n",
              "    </g>\n",
              "</svg>\n",
              "  </button>\n",
              "\n",
              "<style>\n",
              "  .colab-df-quickchart {\n",
              "      --bg-color: #E8F0FE;\n",
              "      --fill-color: #1967D2;\n",
              "      --hover-bg-color: #E2EBFA;\n",
              "      --hover-fill-color: #174EA6;\n",
              "      --disabled-fill-color: #AAA;\n",
              "      --disabled-bg-color: #DDD;\n",
              "  }\n",
              "\n",
              "  [theme=dark] .colab-df-quickchart {\n",
              "      --bg-color: #3B4455;\n",
              "      --fill-color: #D2E3FC;\n",
              "      --hover-bg-color: #434B5C;\n",
              "      --hover-fill-color: #FFFFFF;\n",
              "      --disabled-bg-color: #3B4455;\n",
              "      --disabled-fill-color: #666;\n",
              "  }\n",
              "\n",
              "  .colab-df-quickchart {\n",
              "    background-color: var(--bg-color);\n",
              "    border: none;\n",
              "    border-radius: 50%;\n",
              "    cursor: pointer;\n",
              "    display: none;\n",
              "    fill: var(--fill-color);\n",
              "    height: 32px;\n",
              "    padding: 0;\n",
              "    width: 32px;\n",
              "  }\n",
              "\n",
              "  .colab-df-quickchart:hover {\n",
              "    background-color: var(--hover-bg-color);\n",
              "    box-shadow: 0 1px 2px rgba(60, 64, 67, 0.3), 0 1px 3px 1px rgba(60, 64, 67, 0.15);\n",
              "    fill: var(--button-hover-fill-color);\n",
              "  }\n",
              "\n",
              "  .colab-df-quickchart-complete:disabled,\n",
              "  .colab-df-quickchart-complete:disabled:hover {\n",
              "    background-color: var(--disabled-bg-color);\n",
              "    fill: var(--disabled-fill-color);\n",
              "    box-shadow: none;\n",
              "  }\n",
              "\n",
              "  .colab-df-spinner {\n",
              "    border: 2px solid var(--fill-color);\n",
              "    border-color: transparent;\n",
              "    border-bottom-color: var(--fill-color);\n",
              "    animation:\n",
              "      spin 1s steps(1) infinite;\n",
              "  }\n",
              "\n",
              "  @keyframes spin {\n",
              "    0% {\n",
              "      border-color: transparent;\n",
              "      border-bottom-color: var(--fill-color);\n",
              "      border-left-color: var(--fill-color);\n",
              "    }\n",
              "    20% {\n",
              "      border-color: transparent;\n",
              "      border-left-color: var(--fill-color);\n",
              "      border-top-color: var(--fill-color);\n",
              "    }\n",
              "    30% {\n",
              "      border-color: transparent;\n",
              "      border-left-color: var(--fill-color);\n",
              "      border-top-color: var(--fill-color);\n",
              "      border-right-color: var(--fill-color);\n",
              "    }\n",
              "    40% {\n",
              "      border-color: transparent;\n",
              "      border-right-color: var(--fill-color);\n",
              "      border-top-color: var(--fill-color);\n",
              "    }\n",
              "    60% {\n",
              "      border-color: transparent;\n",
              "      border-right-color: var(--fill-color);\n",
              "    }\n",
              "    80% {\n",
              "      border-color: transparent;\n",
              "      border-right-color: var(--fill-color);\n",
              "      border-bottom-color: var(--fill-color);\n",
              "    }\n",
              "    90% {\n",
              "      border-color: transparent;\n",
              "      border-bottom-color: var(--fill-color);\n",
              "    }\n",
              "  }\n",
              "</style>\n",
              "\n",
              "  <script>\n",
              "    async function quickchart(key) {\n",
              "      const quickchartButtonEl =\n",
              "        document.querySelector('#' + key + ' button');\n",
              "      quickchartButtonEl.disabled = true;  // To prevent multiple clicks.\n",
              "      quickchartButtonEl.classList.add('colab-df-spinner');\n",
              "      try {\n",
              "        const charts = await google.colab.kernel.invokeFunction(\n",
              "            'suggestCharts', [key], {});\n",
              "      } catch (error) {\n",
              "        console.error('Error during call to suggestCharts:', error);\n",
              "      }\n",
              "      quickchartButtonEl.classList.remove('colab-df-spinner');\n",
              "      quickchartButtonEl.classList.add('colab-df-quickchart-complete');\n",
              "    }\n",
              "    (() => {\n",
              "      let quickchartButtonEl =\n",
              "        document.querySelector('#df-01ac653a-60f9-4029-9750-0c9374efae0c button');\n",
              "      quickchartButtonEl.style.display =\n",
              "        google.colab.kernel.accessAllowed ? 'block' : 'none';\n",
              "    })();\n",
              "  </script>\n",
              "</div>\n",
              "    </div>\n",
              "  </div>\n"
            ]
          },
          "metadata": {},
          "execution_count": 3
        }
      ]
    },
    {
      "cell_type": "code",
      "source": [
        "!pip install konlpy"
      ],
      "metadata": {
        "colab": {
          "base_uri": "https://localhost:8080/"
        },
        "id": "O3bIrqJbBIqA",
        "outputId": "b8788a85-17ca-42f8-bf46-12ed35db2de4"
      },
      "execution_count": null,
      "outputs": [
        {
          "output_type": "stream",
          "name": "stdout",
          "text": [
            "Requirement already satisfied: konlpy in /usr/local/lib/python3.10/dist-packages (0.6.0)\n",
            "Requirement already satisfied: JPype1>=0.7.0 in /usr/local/lib/python3.10/dist-packages (from konlpy) (1.4.1)\n",
            "Requirement already satisfied: lxml>=4.1.0 in /usr/local/lib/python3.10/dist-packages (from konlpy) (4.9.3)\n",
            "Requirement already satisfied: numpy>=1.6 in /usr/local/lib/python3.10/dist-packages (from konlpy) (1.23.5)\n",
            "Requirement already satisfied: packaging in /usr/local/lib/python3.10/dist-packages (from JPype1>=0.7.0->konlpy) (23.2)\n"
          ]
        }
      ]
    },
    {
      "cell_type": "code",
      "source": [
        "from konlpy.tag import Twitter\n",
        "tagger = Twitter()"
      ],
      "metadata": {
        "colab": {
          "base_uri": "https://localhost:8080/"
        },
        "id": "1A9R3n6FBFnl",
        "outputId": "49291954-ff16-4bee-e576-d9040baf1092"
      },
      "execution_count": null,
      "outputs": [
        {
          "output_type": "stream",
          "name": "stderr",
          "text": [
            "/usr/local/lib/python3.10/dist-packages/konlpy/tag/_okt.py:17: UserWarning: \"Twitter\" has changed to \"Okt\" since KoNLPy v0.4.5.\n",
            "  warn('\"Twitter\" has changed to \"Okt\" since KoNLPy v0.4.5.')\n"
          ]
        }
      ]
    },
    {
      "cell_type": "code",
      "source": [
        "def kor_noun(text):\n",
        "    words = []\n",
        "    for w in tagger.nouns(text):\n",
        "        if len(w) > 1:\n",
        "            words.append(w)\n",
        "    return words"
      ],
      "metadata": {
        "id": "hFu7vzcABsHI"
      },
      "execution_count": null,
      "outputs": []
    },
    {
      "cell_type": "code",
      "source": [
        "kor_noun('한글은 한국어를 표현하는 문자인 것이다.')"
      ],
      "metadata": {
        "colab": {
          "base_uri": "https://localhost:8080/"
        },
        "id": "iRGH_fxjBxGZ",
        "outputId": "12cc19e8-45b4-462a-adee-7298d064d2d9"
      },
      "execution_count": null,
      "outputs": [
        {
          "output_type": "execute_result",
          "data": {
            "text/plain": [
              "['한글', '한국어', '표현', '문자']"
            ]
          },
          "metadata": {},
          "execution_count": 7
        }
      ]
    },
    {
      "cell_type": "code",
      "source": [
        "from sklearn.feature_extraction.text import CountVectorizer\n",
        "\n",
        "cv = CountVectorizer(tokenizer=kor_noun, max_features=1000)"
      ],
      "metadata": {
        "id": "A_28LMj2ByHM"
      },
      "execution_count": null,
      "outputs": []
    },
    {
      "cell_type": "code",
      "source": [
        "summary = df['summary'].astype(str) + df['title'].astype(str)"
      ],
      "metadata": {
        "id": "lyhZ1S49IGQB"
      },
      "execution_count": null,
      "outputs": []
    },
    {
      "cell_type": "code",
      "source": [
        "tdm = cv.fit_transform(summary)\n",
        "words = cv.get_feature_names_out()"
      ],
      "metadata": {
        "colab": {
          "base_uri": "https://localhost:8080/"
        },
        "id": "azBX01cuITkH",
        "outputId": "bd885bfb-1edc-4fbf-cb03-c8cd3167da8d"
      },
      "execution_count": null,
      "outputs": [
        {
          "output_type": "stream",
          "name": "stderr",
          "text": [
            "/usr/local/lib/python3.10/dist-packages/sklearn/feature_extraction/text.py:528: UserWarning: The parameter 'token_pattern' will not be used since 'tokenizer' is not None'\n",
            "  warnings.warn(\n"
          ]
        }
      ]
    },
    {
      "cell_type": "code",
      "source": [
        "sorted(zip(tdm.sum(axis=0).flat, words), reverse=True)[:20]"
      ],
      "metadata": {
        "colab": {
          "base_uri": "https://localhost:8080/"
        },
        "id": "bBS4bfelIVmX",
        "outputId": "ad9fb19e-a097-4686-a69e-f60d2cf8e10c"
      },
      "execution_count": null,
      "outputs": [
        {
          "output_type": "execute_result",
          "data": {
            "text/plain": [
              "[(422, '세상'),\n",
              " (401, '게임'),\n",
              " (328, '사랑'),\n",
              " (312, '그녀'),\n",
              " (304, '세계'),\n",
              " (295, '재벌'),\n",
              " (292, '회귀'),\n",
              " (277, '헌터'),\n",
              " (272, '천재'),\n",
              " (251, '시작'),\n",
              " (240, '무림'),\n",
              " (215, '결혼'),\n",
              " (212, '위해'),\n",
              " (206, '사람'),\n",
              " (203, '천마'),\n",
              " (203, '던전'),\n",
              " (197, '남자'),\n",
              " (190, '모든'),\n",
              " (189, '이혼'),\n",
              " (187, '남편')]"
            ]
          },
          "metadata": {},
          "execution_count": 11
        }
      ]
    },
    {
      "cell_type": "code",
      "source": [
        "!pip install gensim"
      ],
      "metadata": {
        "colab": {
          "base_uri": "https://localhost:8080/"
        },
        "id": "ldtIrg7FI0Ns",
        "outputId": "7555da9f-0dca-4b31-f33e-db5ad9073bcd"
      },
      "execution_count": null,
      "outputs": [
        {
          "output_type": "stream",
          "name": "stdout",
          "text": [
            "Requirement already satisfied: gensim in /usr/local/lib/python3.10/dist-packages (4.3.2)\n",
            "Requirement already satisfied: numpy>=1.18.5 in /usr/local/lib/python3.10/dist-packages (from gensim) (1.23.5)\n",
            "Requirement already satisfied: scipy>=1.7.0 in /usr/local/lib/python3.10/dist-packages (from gensim) (1.11.3)\n",
            "Requirement already satisfied: smart-open>=1.8.1 in /usr/local/lib/python3.10/dist-packages (from gensim) (6.4.0)\n"
          ]
        }
      ]
    },
    {
      "cell_type": "code",
      "source": [
        "from gensim.matutils import Sparse2Corpus\n",
        "\n",
        "corpus = Sparse2Corpus(tdm.T)"
      ],
      "metadata": {
        "id": "5lonk4jSI3dw"
      },
      "execution_count": null,
      "outputs": []
    },
    {
      "cell_type": "code",
      "source": [],
      "metadata": {
        "id": "EtdaNnmJnO6E"
      },
      "execution_count": null,
      "outputs": []
    },
    {
      "cell_type": "code",
      "source": [
        "from gensim.models.ldamodel import LdaModel\n",
        "lda = LdaModel(corpus=corpus, id2word=dict(enumerate(words)),\n",
        "               num_topics=8, passes=50, iterations=35,\n",
        "               random_state=1234)"
      ],
      "metadata": {
        "id": "rreBD9BKI5Pi"
      },
      "execution_count": null,
      "outputs": []
    },
    {
      "cell_type": "code",
      "source": [
        "topics = lda.print_topics(num_words= 4)\n",
        "for topic in  topics:\n",
        "  print(topic)"
      ],
      "metadata": {
        "colab": {
          "base_uri": "https://localhost:8080/"
        },
        "id": "D9fR8k_SOC4X",
        "outputId": "d5e16a65-896e-47d8-dbf2-92e3c0c54198"
      },
      "execution_count": null,
      "outputs": [
        {
          "output_type": "stream",
          "name": "stdout",
          "text": [
            "(0, '0.082*\"게임\" + 0.035*\"세계\" + 0.035*\"세상\" + 0.029*\"몬스터\"')\n",
            "(1, '0.039*\"공작\" + 0.039*\"남편\" + 0.036*\"빙의\" + 0.033*\"이혼\"')\n",
            "(2, '0.067*\"망나니\" + 0.027*\"재벌\" + 0.024*\"축구\" + 0.022*\"귀환\"')\n",
            "(3, '0.033*\"던전\" + 0.032*\"천재\" + 0.030*\"수상작\" + 0.027*\"지상\"')\n",
            "(4, '0.093*\"차원\" + 0.035*\"세상\" + 0.023*\"헌터\" + 0.023*\"사람\"')\n",
            "(5, '0.054*\"마법\" + 0.032*\"마법사\" + 0.022*\"헌터\" + 0.020*\"스킬\"')\n",
            "(6, '0.051*\"무림\" + 0.033*\"천마\" + 0.029*\"재벌\" + 0.020*\"회귀\"')\n",
            "(7, '0.068*\"그녀\" + 0.047*\"사랑\" + 0.039*\"남자\" + 0.037*\"결혼\"')\n"
          ]
        }
      ]
    },
    {
      "cell_type": "code",
      "source": [
        "def tdm2doc(tdm, i):\n",
        "    doc = []\n",
        "    for i, n in enumerate(tdm[i].toarray().flat):\n",
        "        if n > 0:\n",
        "            doc.append((i, n))\n",
        "    return doc"
      ],
      "metadata": {
        "id": "8BqQveI9JV8w"
      },
      "execution_count": null,
      "outputs": []
    },
    {
      "cell_type": "code",
      "source": [
        "doc = tdm2doc(tdm, 1)"
      ],
      "metadata": {
        "id": "wXfXERIdJYBm"
      },
      "execution_count": null,
      "outputs": []
    },
    {
      "cell_type": "code",
      "source": [
        "def getDoc():\n",
        "  for i in range(500):\n",
        "    doc = tdm2doc(tdm, i)\n",
        "    title = df.loc[i, 'title']\n",
        "    print(title , lda.get_document_topics(doc))"
      ],
      "metadata": {
        "id": "JMsIF5j3Mhye"
      },
      "execution_count": null,
      "outputs": []
    },
    {
      "cell_type": "code",
      "source": [
        "def make_topictable_per_doc(lda, corpus):\n",
        "    topic_table = pd.DataFrame()\n",
        "\n",
        "    # 몇 번째 문서인지를 의미하는 문서 번호와 해당 문서의 토픽 비중을 한 줄씩 꺼내온다.\n",
        "    for i, topic_list in enumerate(lda[corpus]):\n",
        "        doc = topic_list[0] if lda.per_word_topics else topic_list\n",
        "        doc = sorted(doc, key=lambda x: (x[1]), reverse=True)\n",
        "\n",
        "        # 토픽 비중 초기화\n",
        "        topic_distribution = [0.0] * lda.num_topics\n",
        "\n",
        "        # 모든 문서에 대해서 각각 아래를 수행\n",
        "        for j, (topic_num, prop_topic) in enumerate(doc):\n",
        "            if j == 0:  # 정렬을 한 상태이므로 가장 앞에 있는 것이 가장 비중이 높은 토픽\n",
        "                topic_name_num = int(topic_num)\n",
        "\n",
        "                topic_name_num = [word for word, p in lda.show_topic(topic_name_num)]\n",
        "                title = df.loc[i, 'title']\n",
        "\n",
        "                # 토픽 비중의 길이를 맞추기\n",
        "                topic_distribution = [(item[0], round(item[1], 2)) for item in topic_list]\n",
        "\n",
        "                # 토픽 테이블에 추가\n",
        "                topic_table = topic_table.append(pd.Series([title, int(topic_num), round(prop_topic, 2), topic_list, topic_name_num, topic_distribution]), ignore_index=True)\n",
        "            else:\n",
        "                break\n",
        "    return topic_table\n"
      ],
      "metadata": {
        "id": "QOUz2XjIQKMY"
      },
      "execution_count": null,
      "outputs": []
    },
    {
      "cell_type": "code",
      "source": [
        "# 토픽 테이블 생성\n",
        "corpus = Sparse2Corpus(tdm.T)\n",
        "topictable = make_topictable_per_doc(lda, corpus)\n",
        "topictable = topictable.reset_index()\n",
        "topictable.columns = ['문서 번호', '제목', '가장 비중이 높은 토픽', '가장 높은 토픽의 비중', '각 토픽의 비중', '토픽 이름', '토픽 비중']\n",
        "\n",
        "topictable.head()"
      ],
      "metadata": {
        "id": "9pHlc6aZQZEJ"
      },
      "execution_count": null,
      "outputs": []
    },
    {
      "cell_type": "code",
      "source": [
        "pip install wordcloud matplotlib\n"
      ],
      "metadata": {
        "colab": {
          "base_uri": "https://localhost:8080/"
        },
        "id": "hz8FGSoLiB21",
        "outputId": "df7a8b2a-e51f-437f-f0b1-3c5b13b9d806"
      },
      "execution_count": null,
      "outputs": [
        {
          "output_type": "stream",
          "name": "stdout",
          "text": [
            "Requirement already satisfied: wordcloud in /usr/local/lib/python3.10/dist-packages (1.9.2)\n",
            "Requirement already satisfied: matplotlib in /usr/local/lib/python3.10/dist-packages (3.7.1)\n",
            "Requirement already satisfied: numpy>=1.6.1 in /usr/local/lib/python3.10/dist-packages (from wordcloud) (1.23.5)\n",
            "Requirement already satisfied: pillow in /usr/local/lib/python3.10/dist-packages (from wordcloud) (10.1.0)\n",
            "Requirement already satisfied: contourpy>=1.0.1 in /usr/local/lib/python3.10/dist-packages (from matplotlib) (1.2.0)\n",
            "Requirement already satisfied: cycler>=0.10 in /usr/local/lib/python3.10/dist-packages (from matplotlib) (0.12.1)\n",
            "Requirement already satisfied: fonttools>=4.22.0 in /usr/local/lib/python3.10/dist-packages (from matplotlib) (4.44.0)\n",
            "Requirement already satisfied: kiwisolver>=1.0.1 in /usr/local/lib/python3.10/dist-packages (from matplotlib) (1.4.5)\n",
            "Requirement already satisfied: packaging>=20.0 in /usr/local/lib/python3.10/dist-packages (from matplotlib) (23.2)\n",
            "Requirement already satisfied: pyparsing>=2.3.1 in /usr/local/lib/python3.10/dist-packages (from matplotlib) (3.1.1)\n",
            "Requirement already satisfied: python-dateutil>=2.7 in /usr/local/lib/python3.10/dist-packages (from matplotlib) (2.8.2)\n",
            "Requirement already satisfied: six>=1.5 in /usr/local/lib/python3.10/dist-packages (from python-dateutil>=2.7->matplotlib) (1.16.0)\n"
          ]
        }
      ]
    },
    {
      "cell_type": "code",
      "source": [
        "pip install --upgrade Pillow"
      ],
      "metadata": {
        "colab": {
          "base_uri": "https://localhost:8080/"
        },
        "id": "3BbUqis-pPqI",
        "outputId": "be9b73d3-a0e3-4c5b-d21b-b42912a2aa94"
      },
      "execution_count": null,
      "outputs": [
        {
          "output_type": "stream",
          "name": "stdout",
          "text": [
            "Requirement already satisfied: Pillow in /usr/local/lib/python3.10/dist-packages (10.1.0)\n"
          ]
        }
      ]
    },
    {
      "cell_type": "code",
      "source": [
        "!pip install matplotlib numpy pandas\n"
      ],
      "metadata": {
        "colab": {
          "base_uri": "https://localhost:8080/"
        },
        "id": "0k6_doH5JpR3",
        "outputId": "6306960a-fe69-4d62-a311-13dae55e7218"
      },
      "execution_count": null,
      "outputs": [
        {
          "output_type": "stream",
          "name": "stdout",
          "text": [
 
          ]
        }
      ]
    },
    {
      "cell_type": "code",
      "source": [
        "#import matplotlib.font_manager as fm\n",
        "#fontlist = fm.findSystemFonts(fontpaths=None, fontext='ttf')"
      ],
      "metadata": {
        "id": "MTC7VsdT066v"
      },
      "execution_count": null,
      "outputs": []
    },
    {
      "cell_type": "code",
      "source": [
        "#import matplotlib\n",
        "#import matplotlib.font_manager\n",
        "\n",
        "#[f.fname for f in matplotlib.font_manager.fontManager.ttflist]"
      ],
      "metadata": {
        "id": "Ji1LO-qZ3fBS"
      },
      "execution_count": null,
      "outputs": []
    },
    {
      "cell_type": "code",
      "source": [
        "#import matplotlib\n",
        "#import matplotlib.font_manager\n",
        "\n",
        "#[f.name for f in matplotlib.font_manager.fontManager.ttflist if 'Nanum' in f.name]"
      ],
      "metadata": {
        "id": "YNR1nTub3kBs"
      },
      "execution_count": null,
      "outputs": []
    },
    {
      "cell_type": "code",
      "source": [
        "#import matplotlib\n",
        "#matplotlib.matplotlib_fname()\n",
        "\n"
      ],
      "metadata": {
        "id": "qnpKkhdn13gR"
      },
      "execution_count": null,
      "outputs": []
    },
    {
      "cell_type": "code",
      "source": [
        "# [(f.name, f.fname) for f in matplotlib.font_manager.fontManager.ttflist if 'Nanum' in f.name]"
      ],
      "metadata": {
        "id": "F7QcFI1G3z2c"
      },
      "execution_count": null,
      "outputs": []
    },
    {
      "cell_type": "markdown",
      "source": [
        "여기부터 31~41라인은 위에 코드가 없어도 한글이 나오는지 모름"
      ],
      "metadata": {
        "id": "JT8erGzMUZhT"
      }
    },
    {
      "cell_type": "code",
      "source": [
        "!pip install konlpy"
      ],
      "metadata": {
        "colab": {
          "base_uri": "https://localhost:8080/"
        },
        "id": "f1DANcZkTB-d",
        "outputId": "5c14731b-6824-4c52-8e83-414aaa606f0e"
      },
      "execution_count": null,
      "outputs": [
        {
          "output_type": "stream",
          "name": "stdout",
          "text": [
            "Requirement already satisfied: konlpy in /usr/local/lib/python3.10/dist-packages (0.6.0)\n",
            "Requirement already satisfied: JPype1>=0.7.0 in /usr/local/lib/python3.10/dist-packages (from konlpy) (1.4.1)\n",
            "Requirement already satisfied: lxml>=4.1.0 in /usr/local/lib/python3.10/dist-packages (from konlpy) (4.9.3)\n",
            "Requirement already satisfied: numpy>=1.6 in /usr/local/lib/python3.10/dist-packages (from konlpy) (1.23.5)\n",
            "Requirement already satisfied: packaging in /usr/local/lib/python3.10/dist-packages (from JPype1>=0.7.0->konlpy) (23.2)\n"
          ]
        }
      ]
    },
    {
      "cell_type": "code",
      "source": [
        "!apt-get update -qq"
      ],
      "metadata": {
        "id": "nINlGBuMTGuD"
      },
      "execution_count": null,
      "outputs": []
    },
    {
      "cell_type": "code",
      "source": [
        "!apt-get install fonts-nanum* qq"
      ],
      "metadata": {
        "colab": {
          "base_uri": "https://localhost:8080/"
        },
        "id": "HAdkk0oFTKbA",
        "outputId": "285f4db2-c001-4f37-ba73-96f0939b1932"
      },
      "execution_count": null,
      "outputs": [
        {
          "output_type": "stream",
          "name": "stdout",
          "text": [
            "Reading package lists... Done\n",
            "Building dependency tree... Done\n",
            "Reading state information... Done\n",
            "Note, selecting 'fonts-nanum-extra' for glob 'fonts-nanum*'\n",
            "Note, selecting 'fonts-nanum-coding' for glob 'fonts-nanum*'\n",
            "Note, selecting 'fonts-nanum-eco' for glob 'fonts-nanum*'\n",
            "Note, selecting 'fonts-nanum' for glob 'fonts-nanum*'\n",
            "E: Unable to locate package qq\n"
          ]
        }
      ]
    },
    {
      "cell_type": "code",
      "source": [
        "import matplotlib.font_manager as fm\n",
        "sys_font = fm.findSystemFonts()\n",
        "\n",
        "[f for f in sys_font if 'Nanum' in f]"
      ],
      "metadata": {
        "colab": {
          "base_uri": "https://localhost:8080/"
        },
        "id": "lbF1LEoITN-2",
        "outputId": "5dc6572e-69c7-402e-d0b3-abf20e098e20"
      },
      "execution_count": null,
      "outputs": [
        {
          "output_type": "execute_result",
          "data": {
            "text/plain": [
              "['/usr/share/fonts/truetype/nanum/NanumGothicCoding.ttf',\n",
              " '/usr/share/fonts/truetype/nanum/NanumSquareR.ttf',\n",
              " '/usr/share/fonts/truetype/nanum/NanumMyeongjo.ttf',\n",
              " '/usr/share/fonts/truetype/nanum/NanumGothicBold.ttf',\n",
              " '/usr/share/fonts/truetype/nanum/NanumBarunGothic.ttf',\n",
              " '/usr/share/fonts/truetype/nanum/NanumGothic.ttf',\n",
              " '/usr/share/fonts/truetype/nanum/NanumSquareB.ttf',\n",
              " '/usr/share/fonts/truetype/nanum/NanumBarunGothicBold.ttf',\n",
              " '/usr/share/fonts/truetype/nanum/NanumSquareRoundB.ttf',\n",
              " '/usr/share/fonts/truetype/nanum/NanumGothicCodingBold.ttf',\n",
              " '/usr/share/fonts/truetype/nanum/NanumSquareRoundR.ttf',\n",
              " '/usr/share/fonts/truetype/nanum/NanumMyeongjoBold.ttf']"
            ]
          },
          "metadata": {},
          "execution_count": 32
        }
      ]
    },
    {
      "cell_type": "code",
      "source": [
        "import matplotlib.font_manager as fm\n",
        "import matplotlib.pyplot as plt\n",
        "import matplotlib.font_manager\n",
        "\n",
        "path = '/usr/share/fonts/truetype/nanum/NanumGothic.ttf'\n",
        "font_name = fm.FontProperties(fname=path, size=10).get_name()\n",
        "print(font_name)\n",
        "plt.rc('font', family=font_name)"
      ],
      "metadata": {
        "colab": {
          "base_uri": "https://localhost:8080/"
        },
        "id": "CrEHYZj7TbYU",
        "outputId": "5b52cab7-2ed4-4bbc-e941-569263c7b150"
      },
      "execution_count": null,
      "outputs": [
        {
          "output_type": "stream",
          "name": "stdout",
          "text": [
            "NanumGothic\n"
          ]
        }
      ]
    },
    {
      "cell_type": "code",
      "source": [
        "import matplotlib.pyplot as plt\n",
        "from wordcloud import WordCloud\n",
        "import numpy as np\n",
        "\n",
        "def get_top_words_for_topic(topic_num, num_words=3):\n",
        "    # 특정 토픽에서 가장 중요한 단어들을 가져오는 함수 (상위 num_words개)\n",
        "    topics = lda.print_topics(num_words=num_words)\n",
        "    top_words = [word.split('*')[1].strip().replace('\"', '') for word in topics[topic_num][1].split('+')]\n",
        "    return top_words\n",
        "\n",
        "def get_topic_names(input_title):\n",
        "    # 입력한 제목이 포함된 행을 찾기\n",
        "    filtered_rows = topictable[topictable['제목'].str.contains(input_title)]\n",
        "\n",
        "    if not filtered_rows.empty:\n",
        "        # 제목이 포함된 행이 존재하는 경우\n",
        "        row_title = filtered_rows.iloc[0]  # 여러 행이 아니라면 첫 번째 행을 선택\n",
        "        topic_names = row_title['토픽 이름']\n",
        "        print(f\"제목 '{input_title}'의 토픽 이름: {topic_names}\")\n",
        "\n",
        "        # 비중이 없는 토픽에 대해 0으로 채워주기\n",
        "        max_topics = lda.num_topics\n",
        "        topic_distribution = row_title['각 토픽의 비중']\n",
        "        filled_topic_distribution = [0.0] * max_topics\n",
        "        for topic_num, prop_topic in topic_distribution:\n",
        "            filled_topic_distribution[int(topic_num)] = round(prop_topic, 2)\n",
        "\n",
        "        # 대표적인 토픽 하나와 해당 토픽의 비중 출력\n",
        "        main_topic = np.argmax(filled_topic_distribution)\n",
        "        main_topic_weight = round(filled_topic_distribution[main_topic], 2)\n",
        "        print(f\"대표적인 토픽: {main_topic}, 비중: {main_topic_weight}\")\n",
        "\n",
        "        # 각 토픽에 대한 대표적인 토픽 이름 3개와 비중 출력\n",
        "        for i in range(max_topics):\n",
        "            top_words = get_top_words_for_topic(i, num_words=3)  # 대표적인 토픽 이름 3개 가져오기\n",
        "            topic_weight = round(filled_topic_distribution[i], 2)  # 해당 토픽의 비중 가져오기\n",
        "            print(f\"토픽 {i}: {top_words}, 비중: {topic_weight}\")\n",
        "\n",
        "        # 사용 예시: 토픽 분포 막대 그래프 그리기\n",
        "        plot_topic_distribution(input_title, topic_names, filled_topic_distribution)\n",
        "\n",
        "        # 워드 클라우드 생성 및 표시\n",
        "        generate_word_cloud(input_title, topic_names)\n",
        "\n",
        "    else:\n",
        "        print(f\"제목 '{input_title}'에 해당하는 데이터가 없습니다.\")\n"
      ],
      "metadata": {
        "id": "LUebwDsPOFL5"
      },
      "execution_count": null,
      "outputs": []
    },
    {
      "cell_type": "code",
      "source": [
        "import matplotlib.pyplot as plt\n",
        "from matplotlib import font_manager, rc\n",
        "import numpy as np\n",
        "\n",
        "# 나눔 폰트 설치\n",
        "#!apt-get -y install fonts-nanum\n",
        "#!fc-cache -fv\n",
        "#!rm -rf ~/.cache/matplotlib\n",
        "\n",
        "# 나눔 폰트 사용 설정\n",
        "import matplotlib.pyplot as plt\n",
        "import matplotlib.font_manager as fm\n",
        "\n",
        "# 나눔 폰트 경로\n",
        "font_path = '/usr/share/fonts/truetype/nanum/NanumGothic.ttf'\n",
        "\n",
        "# 폰트 설정\n",
        "plt.rcParams['font.family'] = 'NanumMyeongjo'\n",
        "plt.rcParams['axes.unicode_minus'] = False  # 마이너스 기호 깨짐 방지\n",
        "\n",
        "def generate_word_cloud(input_title, topic_names):\n",
        "    # 워드 클라우드 생성\n",
        "    text = ' '.join(topic_names)\n",
        "    wordcloud = WordCloud(width=800, height=400, background_color='white', font_path=font_path).generate(text)\n",
        "\n",
        "    # matplotlib을 사용하여 워드 클라우드 표시\n",
        "    plt.figure(figsize=(10, 6))\n",
        "    plt.imshow(wordcloud, interpolation='bilinear')\n",
        "    plt.title(f'\"{input_title}\"에 대한 워드 클라우드', fontweight='bold', fontsize=14)\n",
        "    plt.axis('off')\n",
        "    plt.show()\n",
        "\n",
        "\n",
        "def plot_topic_distribution(input_title, topic_names, topic_distribution):\n",
        "    # topic_distribution을 평탄화하여 1차원 배열로 변환\n",
        "    topic_distribution_flat = np.array(topic_distribution).flatten()\n",
        "\n",
        "    # 토픽 번호\n",
        "    topic_numbers = np.arange(len(topic_distribution_flat))\n",
        "\n",
        "    # 막대 그래프 그리기\n",
        "    plt.figure(figsize=(10, 6))\n",
        "    plt.bar(topic_numbers, topic_distribution_flat, color='skyblue')\n",
        "    plt.title(f'\"{input_title}\"에 대한 토픽 분포', fontweight='bold', fontsize=14)\n",
        "    plt.xlabel('토픽 번호')\n",
        "    plt.ylabel('비중')\n",
        "    plt.xticks(topic_numbers, topic_numbers)  # 토픽 번호에 대응하는 토픽 이름으로 설정\n",
        "    plt.show()\n",
        "\n",
        "# 질문 무한 반복\n",
        "while True:\n",
        "    input_title = input(\"하고 싶은 말을 입력해주세요 (0 입력 시 종료): \")\n",
        "    if input_title == '0':\n",
        "        break\n",
        "\n",
        "    get_topic_names(input_title)\n",
        "    print(\"\\n\")\n"
      ],
      "metadata": {
        "id": "-F-Uz5rMiHQS",
        "colab": {
          "base_uri": "https://localhost:8080/",
          "height": 1000
        },
        "outputId": "568c3d2a-2551-447d-f640-0c0b9dfd7fce"
      },
      "execution_count": null,
      "outputs": [
        {
          "output_type": "stream",
          "name": "stdout",
          "text": [
            "하고 싶은 말을 입력해주세요 (0 입력 시 종료): 이세계 빚쟁이 공작\n",
            "제목 '이세계 빚쟁이 공작'의 토픽 이름: ['마법', '마법사', '헌터', '스킬', '천재', '사람', '재능', '시대', '존재', '이번']\n",
            "대표적인 토픽: 5, 비중: 0.3499999940395355\n",
            "토픽 0: ['게임', '세계', '세상'], 비중: 0.14000000059604645\n",
            "토픽 1: ['공작', '남편', '빙의'], 비중: 0.3100000023841858\n",
            "토픽 2: ['망나니', '재벌', '축구'], 비중: 0.0\n",
            "토픽 3: ['던전', '천재', '수상작'], 비중: 0.0\n",
            "토픽 4: ['차원', '세상', '헌터'], 비중: 0.0\n",
            "토픽 5: ['마법', '마법사', '헌터'], 비중: 0.3499999940395355\n",
            "토픽 6: ['무림', '천마', '재벌'], 비중: 0.0\n",
            "토픽 7: ['그녀', '사랑', '남자'], 비중: 0.17000000178813934\n"
          ]
        },
        {
          "output_type": "display_data",
          "data": {
            "text/plain": [
              "<Figure size 1000x600 with 1 Axes>"
            ],
            "image/png": "[encoded data removed]"
          },
          "metadata": {}
        },
        {
          "output_type": "display_data",
          "data": {
            "text/plain": [
              "<Figure size 1000x600 with 1 Axes>"
            ],
            "image/png": "[encoded data removed]"
          },
          "metadata": {}
        },
        {
          "output_type": "stream",
          "name": "stdout",
          "text": [
            "\n",
            "\n"
          ]
        },
        {
          "output_type": "error",
          "ename": "KeyboardInterrupt",
          "evalue": "ignored",
          "traceback": [
            "\u001b[0;31m---------------------------------------------------------------------------\u001b[0m",
            "\u001b[0;31mKeyboardInterrupt\u001b[0m                         Traceback (most recent call last)",
            "\u001b[0;32m<ipython-input-53-aca039148219>\u001b[0m in \u001b[0;36m<cell line: 51>\u001b[0;34m()\u001b[0m\n\u001b[1;32m     50\u001b[0m \u001b[0;31m# 질문 무한 반복\u001b[0m\u001b[0;34m\u001b[0m\u001b[0;34m\u001b[0m\u001b[0m\n\u001b[1;32m     51\u001b[0m \u001b[0;32mwhile\u001b[0m \u001b[0;32mTrue\u001b[0m\u001b[0;34m:\u001b[0m\u001b[0;34m\u001b[0m\u001b[0;34m\u001b[0m\u001b[0m\n\u001b[0;32m---> 52\u001b[0;31m     \u001b[0minput_title\u001b[0m \u001b[0;34m=\u001b[0m \u001b[0minput\u001b[0m\u001b[0;34m(\u001b[0m\u001b[0;34m\"하고 싶은 말을 입력해주세요 (0 입력 시 종료): \"\u001b[0m\u001b[0;34m)\u001b[0m\u001b[0;34m\u001b[0m\u001b[0;34m\u001b[0m\u001b[0m\n\u001b[0m\u001b[1;32m     53\u001b[0m     \u001b[0;32mif\u001b[0m \u001b[0minput_title\u001b[0m \u001b[0;34m==\u001b[0m \u001b[0;34m'0'\u001b[0m\u001b[0;34m:\u001b[0m\u001b[0;34m\u001b[0m\u001b[0;34m\u001b[0m\u001b[0m\n\u001b[1;32m     54\u001b[0m         \u001b[0;32mbreak\u001b[0m\u001b[0;34m\u001b[0m\u001b[0;34m\u001b[0m\u001b[0m\n",
            "\u001b[0;32m/usr/local/lib/python3.10/dist-packages/ipykernel/kernelbase.py\u001b[0m in \u001b[0;36mraw_input\u001b[0;34m(self, prompt)\u001b[0m\n\u001b[1;32m    849\u001b[0m                 \u001b[0;34m\"raw_input was called, but this frontend does not support input requests.\"\u001b[0m\u001b[0;34m\u001b[0m\u001b[0;34m\u001b[0m\u001b[0m\n\u001b[1;32m    850\u001b[0m             )\n\u001b[0;32m--> 851\u001b[0;31m         return self._input_request(str(prompt),\n\u001b[0m\u001b[1;32m    852\u001b[0m             \u001b[0mself\u001b[0m\u001b[0;34m.\u001b[0m\u001b[0m_parent_ident\u001b[0m\u001b[0;34m,\u001b[0m\u001b[0;34m\u001b[0m\u001b[0;34m\u001b[0m\u001b[0m\n\u001b[1;32m    853\u001b[0m             \u001b[0mself\u001b[0m\u001b[0;34m.\u001b[0m\u001b[0m_parent_header\u001b[0m\u001b[0;34m,\u001b[0m\u001b[0;34m\u001b[0m\u001b[0;34m\u001b[0m\u001b[0m\n",
            "\u001b[0;32m/usr/local/lib/python3.10/dist-packages/ipykernel/kernelbase.py\u001b[0m in \u001b[0;36m_input_request\u001b[0;34m(self, prompt, ident, parent, password)\u001b[0m\n\u001b[1;32m    893\u001b[0m             \u001b[0;32mexcept\u001b[0m \u001b[0mKeyboardInterrupt\u001b[0m\u001b[0;34m:\u001b[0m\u001b[0;34m\u001b[0m\u001b[0;34m\u001b[0m\u001b[0m\n\u001b[1;32m    894\u001b[0m                 \u001b[0;31m# re-raise KeyboardInterrupt, to truncate traceback\u001b[0m\u001b[0;34m\u001b[0m\u001b[0;34m\u001b[0m\u001b[0m\n\u001b[0;32m--> 895\u001b[0;31m                 \u001b[0;32mraise\u001b[0m \u001b[0mKeyboardInterrupt\u001b[0m\u001b[0;34m(\u001b[0m\u001b[0;34m\"Interrupted by user\"\u001b[0m\u001b[0;34m)\u001b[0m \u001b[0;32mfrom\u001b[0m \u001b[0;32mNone\u001b[0m\u001b[0;34m\u001b[0m\u001b[0;34m\u001b[0m\u001b[0m\n\u001b[0m\u001b[1;32m    896\u001b[0m             \u001b[0;32mexcept\u001b[0m \u001b[0mException\u001b[0m \u001b[0;32mas\u001b[0m \u001b[0me\u001b[0m\u001b[0;34m:\u001b[0m\u001b[0;34m\u001b[0m\u001b[0;34m\u001b[0m\u001b[0m\n\u001b[1;32m    897\u001b[0m                 \u001b[0mself\u001b[0m\u001b[0;34m.\u001b[0m\u001b[0mlog\u001b[0m\u001b[0;34m.\u001b[0m\u001b[0mwarning\u001b[0m\u001b[0;34m(\u001b[0m\u001b[0;34m\"Invalid Message:\"\u001b[0m\u001b[0;34m,\u001b[0m \u001b[0mexc_info\u001b[0m\u001b[0;34m=\u001b[0m\u001b[0;32mTrue\u001b[0m\u001b[0;34m)\u001b[0m\u001b[0;34m\u001b[0m\u001b[0;34m\u001b[0m\u001b[0m\n",
            "\u001b[0;31mKeyboardInterrupt\u001b[0m: Interrupted by user"
          ]
        }
      ]
    },
    {
      "cell_type": "code",
      "source": [
        "#질문 무한반복하기! 0 입력시 종료\n",
        "end = 1\n",
        "while end == 1 :\n",
        "    sentence = input(\"하고싶은 말을 입력해주세요 : \")\n",
        "    if sentence == '0' :\n",
        "        break\n",
        "    get_topic_names(sentence)\n",
        "    print(\"\\n\")"
      ],
      "metadata": {
        "id": "wSchYfwISdUL"
      },
      "execution_count": null,
      "outputs": []
    },
    {
      "cell_type": "code",
      "source": [
        "#구글드라이브 연동\n",
        "from google.colab import drive\n",
        "drive.mount('/content/drive')"
      ],
      "metadata": {
        "id": "o_vNcZTwf_u8"
      },
      "execution_count": null,
      "outputs": []
    },
    {
      "cell_type": "code",
      "source": [
        "## 학습 모델 저장\n",
        "from gensim.test.utils import datapath, os\n",
        "\n",
        "PATH = \"/content/drive/MyDrive/colab_model/topic_modeling/lda_model1.gensim\"\n",
        "\n",
        "\n",
        "\n",
        "temp_file = datapath(PATH)\n",
        "lda.save(temp_file)\n"
      ],
      "metadata": {
        "id": "cTdsewx3Ykl_"
      },
      "execution_count": null,
      "outputs": []
    }
  ]
}
